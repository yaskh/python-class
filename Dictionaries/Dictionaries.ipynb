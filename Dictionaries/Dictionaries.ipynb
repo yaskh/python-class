{
  "nbformat": 4,
  "nbformat_minor": 0,
  "metadata": {
    "colab": {
      "name": "Dictionaries.ipynb",
      "provenance": []
    },
    "kernelspec": {
      "name": "python3",
      "display_name": "Python 3"
    }
  },
  "cells": [
    {
      "cell_type": "code",
      "metadata": {
        "id": "Da5L6Zf015-3",
        "colab_type": "code",
        "colab": {}
      },
      "source": [
        "dictionary = {}\n",
        "list_1 = []\n",
        "tuple_1 = ()"
      ],
      "execution_count": 0,
      "outputs": []
    },
    {
      "cell_type": "code",
      "metadata": {
        "id": "HrgMf3kl3YA_",
        "colab_type": "code",
        "colab": {}
      },
      "source": [
        "#Dictionary with key and only one value \n",
        "dictionary= {\n",
        "    \"a\" : 1 #Level 1\n",
        "    \"b\":{ #Nested dictionary 1\n",
        "        \"c\":2 \n",
        "        \"d\":{ #Nested dictionary 2 \n",
        "            \"e\":5\n",
        "        }\n",
        "    }\n",
        "}"
      ],
      "execution_count": 0,
      "outputs": []
    },
    {
      "cell_type": "code",
      "metadata": {
        "id": "3fF4u1C-3oxf",
        "colab_type": "code",
        "outputId": "2cbb7c96-5f82-4e95-d8ff-d0aab53e2633",
        "colab": {
          "base_uri": "https://localhost:8080/",
          "height": 34
        }
      },
      "source": [
        "print(dictionary)"
      ],
      "execution_count": 0,
      "outputs": [
        {
          "output_type": "stream",
          "text": [
            "{'a': 1}\n"
          ],
          "name": "stdout"
        }
      ]
    },
    {
      "cell_type": "code",
      "metadata": {
        "id": "EEnJNGNk3rXB",
        "colab_type": "code",
        "colab": {}
      },
      "source": [
        "#Add or update key value in dictionary \n",
        "dictionary['b'] = 2"
      ],
      "execution_count": 0,
      "outputs": []
    },
    {
      "cell_type": "code",
      "metadata": {
        "id": "cmHnRvjR3x60",
        "colab_type": "code",
        "outputId": "b7a1f71a-767e-4b35-da4a-a025ad6d328c",
        "colab": {
          "base_uri": "https://localhost:8080/",
          "height": 34
        }
      },
      "source": [
        "dictionary"
      ],
      "execution_count": 0,
      "outputs": [
        {
          "output_type": "execute_result",
          "data": {
            "text/plain": [
              "{'a': 1, 'b': 2}"
            ]
          },
          "metadata": {
            "tags": []
          },
          "execution_count": 6
        }
      ]
    },
    {
      "cell_type": "code",
      "metadata": {
        "id": "Z4mloxCG30OF",
        "colab_type": "code",
        "colab": {}
      },
      "source": [
        "dictionary_1 = {\n",
        "    \"a\" : [1, 2,4,6],\n",
        "    \"b\" :{ \n",
        "        \"c\":2 ,\n",
        "        \"d\":{ #Nested dictionary 2 \n",
        "            \"e\":5\n",
        "        }\n",
        "    }\n",
        "}"
      ],
      "execution_count": 0,
      "outputs": []
    },
    {
      "cell_type": "code",
      "metadata": {
        "id": "TdZGyvhD4gvm",
        "colab_type": "code",
        "outputId": "6230d1b8-3133-4109-c379-f0f495d3143f",
        "colab": {
          "base_uri": "https://localhost:8080/",
          "height": 34
        }
      },
      "source": [
        "dictionary_1"
      ],
      "execution_count": 0,
      "outputs": [
        {
          "output_type": "execute_result",
          "data": {
            "text/plain": [
              "{'a': [1, 2, 4, 6], 'b': {'c': 2, 'd': {'e': 5}}}"
            ]
          },
          "metadata": {
            "tags": []
          },
          "execution_count": 16
        }
      ]
    },
    {
      "cell_type": "code",
      "metadata": {
        "id": "NZdPS2sF4qiG",
        "colab_type": "code",
        "colab": {}
      },
      "source": [
        "dictionary_1['a'] = 2"
      ],
      "execution_count": 0,
      "outputs": []
    },
    {
      "cell_type": "code",
      "metadata": {
        "id": "Q95NQV_I4xks",
        "colab_type": "code",
        "outputId": "57b38a58-e484-40fa-9d6b-3bf57ba68125",
        "colab": {
          "base_uri": "https://localhost:8080/",
          "height": 34
        }
      },
      "source": [
        "dictionary_1"
      ],
      "execution_count": 0,
      "outputs": [
        {
          "output_type": "execute_result",
          "data": {
            "text/plain": [
              "{'a': 2, 'b': {'c': 2, 'd': {'e': 5}}}"
            ]
          },
          "metadata": {
            "tags": []
          },
          "execution_count": 18
        }
      ]
    },
    {
      "cell_type": "code",
      "metadata": {
        "id": "NG6EtQTo43dA",
        "colab_type": "code",
        "outputId": "3c6e13b5-da6e-4570-c112-f65a7e3159a9",
        "colab": {
          "base_uri": "https://localhost:8080/",
          "height": 34
        }
      },
      "source": [
        "dictionary_1.keys()"
      ],
      "execution_count": 0,
      "outputs": [
        {
          "output_type": "execute_result",
          "data": {
            "text/plain": [
              "dict_keys(['a', 'b'])"
            ]
          },
          "metadata": {
            "tags": []
          },
          "execution_count": 19
        }
      ]
    },
    {
      "cell_type": "code",
      "metadata": {
        "id": "SYpJOSmY5AQU",
        "colab_type": "code",
        "outputId": "cbc1a4b5-19d8-4ac8-8c85-828e247a21a5",
        "colab": {
          "base_uri": "https://localhost:8080/",
          "height": 34
        }
      },
      "source": [
        "dictionary_1['b'].keys()"
      ],
      "execution_count": 0,
      "outputs": [
        {
          "output_type": "execute_result",
          "data": {
            "text/plain": [
              "dict_keys(['c', 'd'])"
            ]
          },
          "metadata": {
            "tags": []
          },
          "execution_count": 20
        }
      ]
    },
    {
      "cell_type": "code",
      "metadata": {
        "id": "ECDpTpx25GjP",
        "colab_type": "code",
        "outputId": "f48afc6c-f6a3-438a-eec8-9cd32716ff02",
        "colab": {
          "base_uri": "https://localhost:8080/",
          "height": 34
        }
      },
      "source": [
        "dictionary_1.values()"
      ],
      "execution_count": 0,
      "outputs": [
        {
          "output_type": "execute_result",
          "data": {
            "text/plain": [
              "dict_values([2, {'c': 2, 'd': {'e': 5}}])"
            ]
          },
          "metadata": {
            "tags": []
          },
          "execution_count": 21
        }
      ]
    },
    {
      "cell_type": "code",
      "metadata": {
        "id": "V7UpI2Z_5Uia",
        "colab_type": "code",
        "outputId": "4121a86c-7838-4729-d0e0-94f94ca80d97",
        "colab": {
          "base_uri": "https://localhost:8080/",
          "height": 34
        }
      },
      "source": [
        "print(dictionary_1['a'])"
      ],
      "execution_count": 0,
      "outputs": [
        {
          "output_type": "stream",
          "text": [
            "2\n"
          ],
          "name": "stdout"
        }
      ]
    },
    {
      "cell_type": "code",
      "metadata": {
        "id": "xVM-R8vz5edF",
        "colab_type": "code",
        "colab": {}
      },
      "source": [
        "basic_dict = {\n",
        "    \"a\": 1,\n",
        "    \"b\":2,\n",
        "    \"c\":3,\n",
        "    \"d\":4\n",
        "}"
      ],
      "execution_count": 0,
      "outputs": []
    },
    {
      "cell_type": "code",
      "metadata": {
        "id": "XNZxuL6B5ogn",
        "colab_type": "code",
        "outputId": "e538997c-e7d6-493e-f943-99c29f610646",
        "colab": {
          "base_uri": "https://localhost:8080/",
          "height": 85
        }
      },
      "source": [
        "for key in basic_dict.keys():\n",
        "  print(key)"
      ],
      "execution_count": 0,
      "outputs": [
        {
          "output_type": "stream",
          "text": [
            "a\n",
            "b\n",
            "c\n",
            "d\n"
          ],
          "name": "stdout"
        }
      ]
    },
    {
      "cell_type": "code",
      "metadata": {
        "id": "3b87RCiK5y5g",
        "colab_type": "code",
        "colab": {}
      },
      "source": [
        "mod_dict = {}\n",
        "for key in basic_dict.keys():\n",
        "  mod_dict[key] = basic_dict[key] ** 2 \n",
        "\n",
        "#whats happing in the loops\n",
        "#mod_dict['b'] = 2 ** 2"
      ],
      "execution_count": 0,
      "outputs": []
    },
    {
      "cell_type": "code",
      "metadata": {
        "id": "GWeajeD36Vl1",
        "colab_type": "code",
        "outputId": "22769480-6a07-4883-afa4-a80b58ad8272",
        "colab": {
          "base_uri": "https://localhost:8080/",
          "height": 34
        }
      },
      "source": [
        "print(mod_dict)"
      ],
      "execution_count": 0,
      "outputs": [
        {
          "output_type": "stream",
          "text": [
            "{'a': 1, 'b': 4, 'c': 9, 'd': 16}\n"
          ],
          "name": "stdout"
        }
      ]
    },
    {
      "cell_type": "code",
      "metadata": {
        "id": "MO8szSXu6Y_E",
        "colab_type": "code",
        "outputId": "8656e7e3-5457-4633-ffc2-a2ceb06c0672",
        "colab": {
          "base_uri": "https://localhost:8080/",
          "height": 34
        }
      },
      "source": [
        "print(mod_dict.items())"
      ],
      "execution_count": 0,
      "outputs": [
        {
          "output_type": "stream",
          "text": [
            "dict_items([('a', 1), ('b', 4), ('c', 9), ('d', 16)])\n"
          ],
          "name": "stdout"
        }
      ]
    },
    {
      "cell_type": "code",
      "metadata": {
        "id": "85N3GrHR7DIY",
        "colab_type": "code",
        "outputId": "6a1238f6-159d-4bcb-fdfc-d81c2c8d66cd",
        "colab": {
          "base_uri": "https://localhost:8080/",
          "height": 85
        }
      },
      "source": [
        "[('a', 1), ('b', 4), ('c', 9), ('d', 16)]\n",
        "(\"a\" , 1)\n",
        "for key,value in mod_dict.items():\n",
        "  print(key,value)"
      ],
      "execution_count": 0,
      "outputs": [
        {
          "output_type": "stream",
          "text": [
            "a 1\n",
            "b 4\n",
            "c 9\n",
            "d 16\n"
          ],
          "name": "stdout"
        }
      ]
    },
    {
      "cell_type": "code",
      "metadata": {
        "id": "MKqExDVn7gwG",
        "colab_type": "code",
        "colab": {}
      },
      "source": [
        "comp_dict = {key:value for key,value in mod_dict.items()}"
      ],
      "execution_count": 0,
      "outputs": []
    },
    {
      "cell_type": "code",
      "metadata": {
        "id": "_g-r2OeV7xBM",
        "colab_type": "code",
        "outputId": "4ccc6351-e862-463f-965c-7567d58e58d7",
        "colab": {
          "base_uri": "https://localhost:8080/",
          "height": 34
        }
      },
      "source": [
        "print(comp_dict)"
      ],
      "execution_count": 0,
      "outputs": [
        {
          "output_type": "stream",
          "text": [
            "{'a': 1, 'b': 4, 'c': 9, 'd': 16}\n"
          ],
          "name": "stdout"
        }
      ]
    },
    {
      "cell_type": "code",
      "metadata": {
        "id": "29-fiWXv7yxw",
        "colab_type": "code",
        "outputId": "b4466714-3fd0-4f70-bd08-228e05a08d41",
        "colab": {
          "base_uri": "https://localhost:8080/",
          "height": 34
        }
      },
      "source": [
        "print(basic_dict)"
      ],
      "execution_count": 0,
      "outputs": [
        {
          "output_type": "stream",
          "text": [
            "{'a': 1, 'b': 2, 'c': 3, 'd': 4}\n"
          ],
          "name": "stdout"
        }
      ]
    },
    {
      "cell_type": "code",
      "metadata": {
        "id": "oZXo9HTy7-ug",
        "colab_type": "code",
        "colab": {}
      },
      "source": [
        "#We are using dictionary comprehensions to square the data in basic dictionary \n",
        "#And store it in the comp dict\n",
        "comp_dict = {key:value**2 for key,value in basic_dict.items()}"
      ],
      "execution_count": 0,
      "outputs": []
    },
    {
      "cell_type": "code",
      "metadata": {
        "id": "z43u3N5_8Qt0",
        "colab_type": "code",
        "outputId": "eb2454e4-e59a-4afb-bcfb-d8bf5f778a87",
        "colab": {
          "base_uri": "https://localhost:8080/",
          "height": 34
        }
      },
      "source": [
        "comp_dict"
      ],
      "execution_count": 0,
      "outputs": [
        {
          "output_type": "execute_result",
          "data": {
            "text/plain": [
              "{'a': 1, 'b': 4, 'c': 9, 'd': 16}"
            ]
          },
          "metadata": {
            "tags": []
          },
          "execution_count": 36
        }
      ]
    },
    {
      "cell_type": "code",
      "metadata": {
        "id": "Wr3SUyYE8RvO",
        "colab_type": "code",
        "outputId": "33a54e19-69ce-483d-f96c-c6d6ef750e3d",
        "colab": {
          "base_uri": "https://localhost:8080/",
          "height": 34
        }
      },
      "source": [
        "#Now we'll use lambda function \n",
        "\n",
        "#map() #Maps calls a function on iteratables \n",
        "#Lambda #Single line functions \n",
        "\n",
        "dict(zip(basic_dict.keys(),(map(lambda x : x ** 2 , basic_dict.values()))))\n",
        "\n",
        "# a  --- 1\n",
        "# b  --- 4\n",
        "# c  --- 9\n",
        "# d  --- 16"
      ],
      "execution_count": 0,
      "outputs": [
        {
          "output_type": "execute_result",
          "data": {
            "text/plain": [
              "{'a': 1, 'b': 4, 'c': 9, 'd': 16}"
            ]
          },
          "metadata": {
            "tags": []
          },
          "execution_count": 39
        }
      ]
    },
    {
      "cell_type": "code",
      "metadata": {
        "id": "wc1xAfyX9BKL",
        "colab_type": "code",
        "colab": {}
      },
      "source": [
        "#Zip is an iterator \n",
        "# 1 --- 1\n",
        "# 2 --- 2 \n"
      ],
      "execution_count": 0,
      "outputs": []
    },
    {
      "cell_type": "code",
      "metadata": {
        "id": "D6I47lwI91gy",
        "colab_type": "code",
        "colab": {}
      },
      "source": [
        "basic_dict['f'] = 6\n",
        "basic_dict.update({\"f\":6,\n",
        "                   \"g\":7}) #Accepts dictionary as an argument \n",
        "#Item refers to single key and value in a dictionary \n",
        "#To delete and item \n",
        "del(basic_dict[\"f\"])"
      ],
      "execution_count": 0,
      "outputs": []
    },
    {
      "cell_type": "code",
      "metadata": {
        "id": "uLXeVDzu-PHH",
        "colab_type": "code",
        "outputId": "60f870b2-05c6-46aa-e600-ee7125d33fd6",
        "colab": {
          "base_uri": "https://localhost:8080/",
          "height": 34
        }
      },
      "source": [
        "basic_dict"
      ],
      "execution_count": 0,
      "outputs": [
        {
          "output_type": "execute_result",
          "data": {
            "text/plain": [
              "{'a': 1, 'b': 2, 'c': 3, 'd': 4, 'f': 6, 'g': 7}"
            ]
          },
          "metadata": {
            "tags": []
          },
          "execution_count": 44
        }
      ]
    },
    {
      "cell_type": "code",
      "metadata": {
        "id": "_TKNF8rI-qnO",
        "colab_type": "code",
        "colab": {}
      },
      "source": [
        "#basic_list = [1,2,3,4,5,6]\n",
        "basic_list = list(basic_dict.values())"
      ],
      "execution_count": 0,
      "outputs": []
    },
    {
      "cell_type": "code",
      "metadata": {
        "id": "MsW6Wm9E-22B",
        "colab_type": "code",
        "outputId": "d8434fe5-7967-49ff-bef5-2c1ddfa38a6d",
        "colab": {
          "base_uri": "https://localhost:8080/",
          "height": 34
        }
      },
      "source": [
        "basic_list"
      ],
      "execution_count": 0,
      "outputs": [
        {
          "output_type": "execute_result",
          "data": {
            "text/plain": [
              "[1, 2, 3, 4, 6, 7]"
            ]
          },
          "metadata": {
            "tags": []
          },
          "execution_count": 50
        }
      ]
    },
    {
      "cell_type": "code",
      "metadata": {
        "id": "PwmdbZO3_AEA",
        "colab_type": "code",
        "colab": {}
      },
      "source": [
        "#list comprehensions python\n",
        "squared_list = []\n",
        "for value in basic_list:\n",
        "  squared_list.append(value ** 2)\n"
      ],
      "execution_count": 0,
      "outputs": []
    },
    {
      "cell_type": "code",
      "metadata": {
        "id": "mgQUG4Xe_J6l",
        "colab_type": "code",
        "outputId": "319a720c-838a-4a80-99ae-43bc87326c96",
        "colab": {
          "base_uri": "https://localhost:8080/",
          "height": 34
        }
      },
      "source": [
        "squared_list"
      ],
      "execution_count": 0,
      "outputs": [
        {
          "output_type": "execute_result",
          "data": {
            "text/plain": [
              "[1, 4, 9, 16, 36, 49]"
            ]
          },
          "metadata": {
            "tags": []
          },
          "execution_count": 54
        }
      ]
    },
    {
      "cell_type": "code",
      "metadata": {
        "id": "MnkFEjed_WkO",
        "colab_type": "code",
        "colab": {}
      },
      "source": [
        "del(squared_list)"
      ],
      "execution_count": 0,
      "outputs": []
    },
    {
      "cell_type": "code",
      "metadata": {
        "id": "GTqT8xcA_vXN",
        "colab_type": "code",
        "colab": {}
      },
      "source": [
        "simple_list = [value for value in basic_list] "
      ],
      "execution_count": 0,
      "outputs": []
    },
    {
      "cell_type": "code",
      "metadata": {
        "id": "BfevTI4B_wTa",
        "colab_type": "code",
        "outputId": "55e0613d-289f-4b28-843e-0a3b73026e47",
        "colab": {
          "base_uri": "https://localhost:8080/",
          "height": 34
        }
      },
      "source": [
        "squared_list"
      ],
      "execution_count": 0,
      "outputs": [
        {
          "output_type": "execute_result",
          "data": {
            "text/plain": [
              "[1, 2, 3, 4, 6, 7]"
            ]
          },
          "metadata": {
            "tags": []
          },
          "execution_count": 58
        }
      ]
    },
    {
      "cell_type": "code",
      "metadata": {
        "id": "RQdjHiDZAEM-",
        "colab_type": "code",
        "colab": {}
      },
      "source": [
        "squared_list = [value ** 2 for value in basic_list] "
      ],
      "execution_count": 0,
      "outputs": []
    },
    {
      "cell_type": "code",
      "metadata": {
        "id": "ry_KlHvoAMnV",
        "colab_type": "code",
        "outputId": "ef6f6345-57de-4886-a89b-7ac1e54b9a17",
        "colab": {
          "base_uri": "https://localhost:8080/",
          "height": 34
        }
      },
      "source": [
        "squared_list"
      ],
      "execution_count": 0,
      "outputs": [
        {
          "output_type": "execute_result",
          "data": {
            "text/plain": [
              "[1, 4, 9, 16, 36, 49]"
            ]
          },
          "metadata": {
            "tags": []
          },
          "execution_count": 60
        }
      ]
    },
    {
      "cell_type": "code",
      "metadata": {
        "id": "dk85a0tAAN0L",
        "colab_type": "code",
        "colab": {}
      },
      "source": [
        "even_list = [value for value in basic_list if value % 2 == 0]"
      ],
      "execution_count": 0,
      "outputs": []
    },
    {
      "cell_type": "code",
      "metadata": {
        "id": "Y5P7pbTwAaxw",
        "colab_type": "code",
        "outputId": "d94647a0-547c-4229-e504-fb34d8c25509",
        "colab": {
          "base_uri": "https://localhost:8080/",
          "height": 34
        }
      },
      "source": [
        "even_list"
      ],
      "execution_count": 0,
      "outputs": [
        {
          "output_type": "execute_result",
          "data": {
            "text/plain": [
              "[2, 4, 6]"
            ]
          },
          "metadata": {
            "tags": []
          },
          "execution_count": 62
        }
      ]
    },
    {
      "cell_type": "code",
      "metadata": {
        "id": "YIb3OiE1AeGq",
        "colab_type": "code",
        "colab": {}
      },
      "source": [
        "odd_list = [value for value in basic_list if value % 2 != 0]"
      ],
      "execution_count": 0,
      "outputs": []
    },
    {
      "cell_type": "code",
      "metadata": {
        "id": "m6ktThffAmMy",
        "colab_type": "code",
        "outputId": "3fd6323d-af3c-425c-d6e8-b9b29d6e7c2f",
        "colab": {
          "base_uri": "https://localhost:8080/",
          "height": 34
        }
      },
      "source": [
        "odd_list"
      ],
      "execution_count": 0,
      "outputs": [
        {
          "output_type": "execute_result",
          "data": {
            "text/plain": [
              "[1, 3, 7]"
            ]
          },
          "metadata": {
            "tags": []
          },
          "execution_count": 64
        }
      ]
    },
    {
      "cell_type": "code",
      "metadata": {
        "id": "ZX2EHhpLAnLC",
        "colab_type": "code",
        "colab": {}
      },
      "source": [
        "new_list = [value for value in squared_list if value % 2 == 0 if value>10]"
      ],
      "execution_count": 0,
      "outputs": []
    },
    {
      "cell_type": "code",
      "metadata": {
        "id": "b5508eGtA9nv",
        "colab_type": "code",
        "outputId": "875fb069-76ae-4eb5-c61a-cc6e70babcf3",
        "colab": {
          "base_uri": "https://localhost:8080/",
          "height": 34
        }
      },
      "source": [
        "new_list"
      ],
      "execution_count": 0,
      "outputs": [
        {
          "output_type": "execute_result",
          "data": {
            "text/plain": [
              "[16, 36]"
            ]
          },
          "metadata": {
            "tags": []
          },
          "execution_count": 68
        }
      ]
    },
    {
      "cell_type": "code",
      "metadata": {
        "id": "UfKwM7ryA-i4",
        "colab_type": "code",
        "colab": {}
      },
      "source": [
        ""
      ],
      "execution_count": 0,
      "outputs": []
    }
  ]
}
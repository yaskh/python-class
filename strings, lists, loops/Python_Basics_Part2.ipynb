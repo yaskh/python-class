{
  "nbformat": 4,
  "nbformat_minor": 0,
  "metadata": {
    "colab": {
      "name": "Python Basics-Part2.ipynb",
      "provenance": [],
      "collapsed_sections": []
    },
    "kernelspec": {
      "name": "python3",
      "display_name": "Python 3"
    }
  },
  "cells": [
    {
      "cell_type": "code",
      "metadata": {
        "id": "rejxn4JKn-qf",
        "colab_type": "code",
        "colab": {}
      },
      "source": [
        "#Initializing a string\n",
        "string = \"Yasir\" "
      ],
      "execution_count": 0,
      "outputs": []
    },
    {
      "cell_type": "code",
      "metadata": {
        "id": "k_458lN7oCXn",
        "colab_type": "code",
        "colab": {}
      },
      "source": [
        "#Initializing a string\n",
        "string2 = \"Fareed\""
      ],
      "execution_count": 0,
      "outputs": []
    },
    {
      "cell_type": "code",
      "metadata": {
        "id": "FnUfxR38oKkd",
        "colab_type": "code",
        "colab": {
          "base_uri": "https://localhost:8080/",
          "height": 34
        },
        "outputId": "d21787a6-6505-455e-d74a-183d417c04d2"
      },
      "source": [
        "#String concatenation\n",
        "string+string2 "
      ],
      "execution_count": 4,
      "outputs": [
        {
          "output_type": "execute_result",
          "data": {
            "text/plain": [
              "'YasirFareed'"
            ]
          },
          "metadata": {
            "tags": []
          },
          "execution_count": 4
        }
      ]
    },
    {
      "cell_type": "code",
      "metadata": {
        "id": "WTL_TkkXoMSS",
        "colab_type": "code",
        "colab": {
          "base_uri": "https://localhost:8080/",
          "height": 34
        },
        "outputId": "df0c3581-2ac8-4d99-bbd9-cb3e4fb7d61c"
      },
      "source": [
        "startswith(\"string.sA\")"
      ],
      "execution_count": 7,
      "outputs": [
        {
          "output_type": "execute_result",
          "data": {
            "text/plain": [
              "False"
            ]
          },
          "metadata": {
            "tags": []
          },
          "execution_count": 7
        }
      ]
    },
    {
      "cell_type": "code",
      "metadata": {
        "id": "LgE46DgHoPg7",
        "colab_type": "code",
        "colab": {
          "base_uri": "https://localhost:8080/",
          "height": 34
        },
        "outputId": "4e54595b-34a5-4a92-e077-50272ac12fdd"
      },
      "source": [
        "string.endswith(\"ir\")"
      ],
      "execution_count": 9,
      "outputs": [
        {
          "output_type": "execute_result",
          "data": {
            "text/plain": [
              "True"
            ]
          },
          "metadata": {
            "tags": []
          },
          "execution_count": 9
        }
      ]
    },
    {
      "cell_type": "code",
      "metadata": {
        "id": "nGdIwoFmodlF",
        "colab_type": "code",
        "colab": {
          "base_uri": "https://localhost:8080/",
          "height": 34
        },
        "outputId": "09541b89-71ff-4c9d-cbcf-ed847a6fc8b3"
      },
      "source": [
        "type(string)"
      ],
      "execution_count": 10,
      "outputs": [
        {
          "output_type": "execute_result",
          "data": {
            "text/plain": [
              "str"
            ]
          },
          "metadata": {
            "tags": []
          },
          "execution_count": 10
        }
      ]
    },
    {
      "cell_type": "code",
      "metadata": {
        "id": "DUCLrzCHolvI",
        "colab_type": "code",
        "colab": {}
      },
      "source": [
        "#Initializing an array \n",
        "numbers = [1,2,3,4,\"ZOom\"]"
      ],
      "execution_count": 0,
      "outputs": []
    },
    {
      "cell_type": "markdown",
      "metadata": {
        "id": "XPTUFvzKMkZC",
        "colab_type": "text"
      },
      "source": [
        "Python has for each loops "
      ]
    },
    {
      "cell_type": "code",
      "metadata": {
        "id": "-6IR75RBo2ry",
        "colab_type": "code",
        "colab": {
          "base_uri": "https://localhost:8080/",
          "height": 102
        },
        "outputId": "8aca3d62-435e-4dff-cd60-6ecfea8d157b"
      },
      "source": [
        "#Iterating an array\n",
        "for i in numbers:\n",
        "  print(i)"
      ],
      "execution_count": 14,
      "outputs": [
        {
          "output_type": "stream",
          "text": [
            "1\n",
            "2\n",
            "3\n",
            "4\n",
            "ZOom\n"
          ],
          "name": "stdout"
        }
      ]
    },
    {
      "cell_type": "code",
      "metadata": {
        "id": "HriNyIqNpAeB",
        "colab_type": "code",
        "colab": {}
      },
      "source": [
        "#Initializing a tuple\n",
        "number_tuples = (1,2,3,4,\"Zoom\")"
      ],
      "execution_count": 0,
      "outputs": []
    },
    {
      "cell_type": "code",
      "metadata": {
        "id": "KFcRt7BZpVbV",
        "colab_type": "code",
        "colab": {
          "base_uri": "https://localhost:8080/",
          "height": 102
        },
        "outputId": "540f0cc1-c2d9-4ee1-b926-68f117a94fed"
      },
      "source": [
        "#Iterating a tuple\n",
        "for i in number_tuples:\n",
        "  print(i)"
      ],
      "execution_count": 16,
      "outputs": [
        {
          "output_type": "stream",
          "text": [
            "1\n",
            "2\n",
            "3\n",
            "4\n",
            "Zoom\n"
          ],
          "name": "stdout"
        }
      ]
    },
    {
      "cell_type": "code",
      "metadata": {
        "id": "Zcx2HmFppZLS",
        "colab_type": "code",
        "colab": {
          "base_uri": "https://localhost:8080/",
          "height": 187
        },
        "outputId": "937d616c-4499-48fd-ab38-30120fa8983e"
      },
      "source": [
        "for i in range(1,11): #[1,2,3,4,5,6,7,8,9,10]\n",
        "  print(i)"
      ],
      "execution_count": 18,
      "outputs": [
        {
          "output_type": "stream",
          "text": [
            "1\n",
            "2\n",
            "3\n",
            "4\n",
            "5\n",
            "6\n",
            "7\n",
            "8\n",
            "9\n",
            "10\n"
          ],
          "name": "stdout"
        }
      ]
    },
    {
      "cell_type": "code",
      "metadata": {
        "id": "txyqIrskppoG",
        "colab_type": "code",
        "colab": {
          "base_uri": "https://localhost:8080/",
          "height": 204
        },
        "outputId": "3956ddd9-c8bf-447d-fd9a-738716f8e9b5"
      },
      "source": [
        "#Syntax for a while loop \n",
        "i = 0\n",
        "#We use while when don't know the number of iterations \n",
        "while(i <= 10):\n",
        "  print(i)\n",
        "  i += 1 #i = i + 1 "
      ],
      "execution_count": 20,
      "outputs": [
        {
          "output_type": "stream",
          "text": [
            "0\n",
            "1\n",
            "2\n",
            "3\n",
            "4\n",
            "5\n",
            "6\n",
            "7\n",
            "8\n",
            "9\n",
            "10\n"
          ],
          "name": "stdout"
        }
      ]
    },
    {
      "cell_type": "code",
      "metadata": {
        "id": "LtB1ufTYqHcc",
        "colab_type": "code",
        "colab": {
          "base_uri": "https://localhost:8080/",
          "height": 34
        },
        "outputId": "65b59eee-361a-4848-a575-3b668c860391"
      },
      "source": [
        "numbers = [1,2,3,4,\"ZOom\"]\n",
        "numbers\n"
      ],
      "execution_count": 35,
      "outputs": [
        {
          "output_type": "execute_result",
          "data": {
            "text/plain": [
              "[1, 2, 3, 4, 'ZOom']"
            ]
          },
          "metadata": {
            "tags": []
          },
          "execution_count": 35
        }
      ]
    },
    {
      "cell_type": "code",
      "metadata": {
        "id": "-1kEBNoBMw6a",
        "colab_type": "code",
        "colab": {}
      },
      "source": [
        "Following are the array operations "
      ],
      "execution_count": 0,
      "outputs": []
    },
    {
      "cell_type": "code",
      "metadata": {
        "id": "0gOszJleqdb9",
        "colab_type": "code",
        "colab": {
          "base_uri": "https://localhost:8080/",
          "height": 34
        },
        "outputId": "73bc514c-9c7a-42e1-888c-c47f0dd9760a"
      },
      "source": [
        "numbers[1:-1]6"
      ],
      "execution_count": 28,
      "outputs": [
        {
          "output_type": "execute_result",
          "data": {
            "text/plain": [
              "[2, 3, 4]"
            ]
          },
          "metadata": {
            "tags": []
          },
          "execution_count": 28
        }
      ]
    },
    {
      "cell_type": "code",
      "metadata": {
        "id": "sGF1ivykqwtA",
        "colab_type": "code",
        "colab": {}
      },
      "source": [
        "numbers_2 = [\"5\",6,7,8,9]"
      ],
      "execution_count": 0,
      "outputs": []
    },
    {
      "cell_type": "code",
      "metadata": {
        "id": "RboyWjCGrK1K",
        "colab_type": "code",
        "colab": {}
      },
      "source": [
        "concatenated_array = numbers + numbers_2 "
      ],
      "execution_count": 0,
      "outputs": []
    },
    {
      "cell_type": "code",
      "metadata": {
        "id": "YmT__m8mrSCY",
        "colab_type": "code",
        "colab": {
          "base_uri": "https://localhost:8080/",
          "height": 34
        },
        "outputId": "4c34f8e6-7fe8-46b1-c18c-f2cc007f4d0d"
      },
      "source": [
        "numbers.append(6)\n",
        "numbers "
      ],
      "execution_count": 36,
      "outputs": [
        {
          "output_type": "execute_result",
          "data": {
            "text/plain": [
              "[1, 2, 3, 4, 'ZOom', 6]"
            ]
          },
          "metadata": {
            "tags": []
          },
          "execution_count": 36
        }
      ]
    },
    {
      "cell_type": "code",
      "metadata": {
        "id": "wKUzY3enrfAy",
        "colab_type": "code",
        "colab": {}
      },
      "source": [
        "numbers.extend(range(1,6))"
      ],
      "execution_count": 0,
      "outputs": []
    },
    {
      "cell_type": "code",
      "metadata": {
        "id": "X_-jhoaTr315",
        "colab_type": "code",
        "colab": {
          "base_uri": "https://localhost:8080/",
          "height": 34
        },
        "outputId": "673a32e6-21c9-4ee6-9201-57514717f9b4"
      },
      "source": [
        "numbers"
      ],
      "execution_count": 40,
      "outputs": [
        {
          "output_type": "execute_result",
          "data": {
            "text/plain": [
              "[1, 2, 3, 4, 'ZOom', 6, 1, 2, 3, 5, 1, 2, 3, 4, 5]"
            ]
          },
          "metadata": {
            "tags": []
          },
          "execution_count": 40
        }
      ]
    },
    {
      "cell_type": "code",
      "metadata": {
        "id": "_1Ix9RP9r5GT",
        "colab_type": "code",
        "colab": {}
      },
      "source": [
        "for i in reversed(numbers):\n",
        "  print(i)"
      ],
      "execution_count": 0,
      "outputs": []
    },
    {
      "cell_type": "code",
      "metadata": {
        "id": "PY6FK2zksPFC",
        "colab_type": "code",
        "colab": {
          "base_uri": "https://localhost:8080/",
          "height": 34
        },
        "outputId": "4bcf2978-4599-4f78-ae35-b4dbd0176b4f"
      },
      "source": [
        "string"
      ],
      "execution_count": 44,
      "outputs": [
        {
          "output_type": "execute_result",
          "data": {
            "text/plain": [
              "'Yasir'"
            ]
          },
          "metadata": {
            "tags": []
          },
          "execution_count": 44
        }
      ]
    },
    {
      "cell_type": "code",
      "metadata": {
        "id": "9yW-LzEosZDx",
        "colab_type": "code",
        "colab": {
          "base_uri": "https://localhost:8080/",
          "height": 102
        },
        "outputId": "bf3d0112-add3-40f4-c67b-bb6a9787d6ad"
      },
      "source": [
        "for i in reversed(string):\n",
        "  print(i)"
      ],
      "execution_count": 47,
      "outputs": [
        {
          "output_type": "stream",
          "text": [
            "r\n",
            "i\n",
            "s\n",
            "a\n",
            "Y\n"
          ],
          "name": "stdout"
        }
      ]
    },
    {
      "cell_type": "code",
      "metadata": {
        "id": "qOrlFyX8scJY",
        "colab_type": "code",
        "colab": {}
      },
      "source": [
        "numbers[1] = 20 "
      ],
      "execution_count": 0,
      "outputs": []
    },
    {
      "cell_type": "code",
      "metadata": {
        "id": "-53rqOZwM6PA",
        "colab_type": "code",
        "colab": {}
      },
      "source": [
        "Tuple can not be modified"
      ],
      "execution_count": 0,
      "outputs": []
    },
    {
      "cell_type": "code",
      "metadata": {
        "id": "uu3agwwWthp7",
        "colab_type": "code",
        "colab": {
          "base_uri": "https://localhost:8080/",
          "height": 163
        },
        "outputId": "c21ed29b-d6a4-4966-d5f7-ad51bd0184a0"
      },
      "source": [
        "number_tuples[1] = 21"
      ],
      "execution_count": 51,
      "outputs": [
        {
          "output_type": "error",
          "ename": "TypeError",
          "evalue": "ignored",
          "traceback": [
            "\u001b[0;31m---------------------------------------------------------------------------\u001b[0m",
            "\u001b[0;31mTypeError\u001b[0m                                 Traceback (most recent call last)",
            "\u001b[0;32m<ipython-input-51-58a435896e9f>\u001b[0m in \u001b[0;36m<module>\u001b[0;34m()\u001b[0m\n\u001b[0;32m----> 1\u001b[0;31m \u001b[0mnumber_tuples\u001b[0m\u001b[0;34m[\u001b[0m\u001b[0;36m1\u001b[0m\u001b[0;34m]\u001b[0m \u001b[0;34m=\u001b[0m \u001b[0;36m21\u001b[0m\u001b[0;34m\u001b[0m\u001b[0;34m\u001b[0m\u001b[0m\n\u001b[0m",
            "\u001b[0;31mTypeError\u001b[0m: 'tuple' object does not support item assignment"
          ]
        }
      ]
    },
    {
      "cell_type": "code",
      "metadata": {
        "id": "7IBcrP3stn5O",
        "colab_type": "code",
        "colab": {
          "base_uri": "https://localhost:8080/",
          "height": 34
        },
        "outputId": "5be3bb24-2b24-4054-df12-ac2ea8f4c7f5"
      },
      "source": [
        "temp = list(number_tuples)\n",
        "type(temp)"
      ],
      "execution_count": 54,
      "outputs": [
        {
          "output_type": "execute_result",
          "data": {
            "text/plain": [
              "list"
            ]
          },
          "metadata": {
            "tags": []
          },
          "execution_count": 54
        }
      ]
    },
    {
      "cell_type": "code",
      "metadata": {
        "id": "15fPcn7it5l6",
        "colab_type": "code",
        "colab": {}
      },
      "source": [
        "temp[1] = 20"
      ],
      "execution_count": 0,
      "outputs": []
    },
    {
      "cell_type": "code",
      "metadata": {
        "id": "TMX-09d7uF86",
        "colab_type": "code",
        "colab": {
          "base_uri": "https://localhost:8080/",
          "height": 34
        },
        "outputId": "1f04997a-6dcd-4cfe-aa64-c1ff102bfead"
      },
      "source": [
        "print(temp)"
      ],
      "execution_count": 56,
      "outputs": [
        {
          "output_type": "stream",
          "text": [
            "[1, 20, 3, 4, 'Zoom']\n"
          ],
          "name": "stdout"
        }
      ]
    },
    {
      "cell_type": "code",
      "metadata": {
        "id": "12DhTiuMuG-s",
        "colab_type": "code",
        "colab": {}
      },
      "source": [
        "#Used to create mappings \n",
        "# in dictionary we can have 1 key on a single level \n",
        "# Nesting in possible in dictionaries \n",
        "dict_1 = {\"hello\":\"world\"}"
      ],
      "execution_count": 0,
      "outputs": []
    },
    {
      "cell_type": "code",
      "metadata": {
        "id": "wUEHhoJ4uUie",
        "colab_type": "code",
        "colab": {
          "base_uri": "https://localhost:8080/",
          "height": 34
        },
        "outputId": "67b1585f-b6bb-4044-a114-e454e0064994"
      },
      "source": [
        "dict_1.keys()"
      ],
      "execution_count": 59,
      "outputs": [
        {
          "output_type": "execute_result",
          "data": {
            "text/plain": [
              "dict_keys(['hello'])"
            ]
          },
          "metadata": {
            "tags": []
          },
          "execution_count": 59
        }
      ]
    },
    {
      "cell_type": "code",
      "metadata": {
        "id": "Kg9gtiVluWLg",
        "colab_type": "code",
        "colab": {}
      },
      "source": [
        "dict_1['hello'] = \"class\""
      ],
      "execution_count": 0,
      "outputs": []
    },
    {
      "cell_type": "code",
      "metadata": {
        "id": "BeXfUKhruqbs",
        "colab_type": "code",
        "colab": {
          "base_uri": "https://localhost:8080/",
          "height": 34
        },
        "outputId": "033358e3-2e09-45e5-b07f-bde691495c0f"
      },
      "source": [
        "print(dict_1)"
      ],
      "execution_count": 61,
      "outputs": [
        {
          "output_type": "stream",
          "text": [
            "{'hello': 'class'}\n"
          ],
          "name": "stdout"
        }
      ]
    },
    {
      "cell_type": "code",
      "metadata": {
        "id": "VQAtCaOyur1z",
        "colab_type": "code",
        "colab": {}
      },
      "source": [
        "string = \"My name is yasir\"\n",
        "split_string = string.split(\" \")"
      ],
      "execution_count": 0,
      "outputs": []
    },
    {
      "cell_type": "code",
      "metadata": {
        "id": "U89wlIGgvm_D",
        "colab_type": "code",
        "colab": {
          "base_uri": "https://localhost:8080/",
          "height": 34
        },
        "outputId": "c9b81f55-d7a7-4a2c-88a8-530dd3a13f41"
      },
      "source": [
        "split_string"
      ],
      "execution_count": 68,
      "outputs": [
        {
          "output_type": "execute_result",
          "data": {
            "text/plain": [
              "['My', 'name', 'is', 'yasir']"
            ]
          },
          "metadata": {
            "tags": []
          },
          "execution_count": 68
        }
      ]
    },
    {
      "cell_type": "code",
      "metadata": {
        "id": "5BP7buZzv3de",
        "colab_type": "code",
        "colab": {}
      },
      "source": [
        "joined_string = \" \".join(split_string)"
      ],
      "execution_count": 0,
      "outputs": []
    },
    {
      "cell_type": "code",
      "metadata": {
        "id": "24T8cm0AwI7h",
        "colab_type": "code",
        "colab": {
          "base_uri": "https://localhost:8080/",
          "height": 34
        },
        "outputId": "6d9f7d6a-8569-4543-862a-288b9a9ea4b6"
      },
      "source": [
        "print(joined_string)"
      ],
      "execution_count": 70,
      "outputs": [
        {
          "output_type": "stream",
          "text": [
            "My name is yasir\n"
          ],
          "name": "stdout"
        }
      ]
    },
    {
      "cell_type": "code",
      "metadata": {
        "id": "6ARAFpaYwKpq",
        "colab_type": "code",
        "colab": {}
      },
      "source": [
        "bool_value = True \n",
        "bool_value = False "
      ],
      "execution_count": 0,
      "outputs": []
    },
    {
      "cell_type": "markdown",
      "metadata": {
        "id": "d00h6Iy1NHhS",
        "colab_type": "text"
      },
      "source": [
        "**Differance between a list and tuple:**\n",
        "\n",
        "Mutable List vs Immutable Tuples\n",
        "List has mutable nature i.e., list can be changed or modified after its creation according to needs whereas tuple has immutable nature i.e., tuple can’t be changed or modified after its creation."
      ]
    }
  ]
}
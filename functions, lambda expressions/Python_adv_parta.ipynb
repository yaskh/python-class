{
  "nbformat": 4,
  "nbformat_minor": 0,
  "metadata": {
    "colab": {
      "name": "Python_adv_parta.ipynb",
      "provenance": []
    },
    "kernelspec": {
      "name": "python3",
      "display_name": "Python 3"
    }
  },
  "cells": [
    {
      "cell_type": "code",
      "metadata": {
        "id": "oWMdA3XJxlM6",
        "colab_type": "code",
        "colab": {}
      },
      "source": [
        "path = 'C:\\\\Program\\\\Setup\\\\dir'"
      ],
      "execution_count": 0,
      "outputs": []
    },
    {
      "cell_type": "code",
      "metadata": {
        "id": "t4jRLModzaSw",
        "colab_type": "code",
        "outputId": "aea55ae1-240a-477d-f929-e2635bcc706d",
        "colab": {
          "base_uri": "https://localhost:8080/",
          "height": 34
        }
      },
      "source": [
        "if('Program Files (x86)' in path):\n",
        "  path = path.replace('Program Files (x86)','progra~2')\n",
        "elif('Program Files' in path):\n",
        "  path = path.replace('Program Files','progra~1')\n",
        "else:\n",
        "  print(\"invalid path\")"
      ],
      "execution_count": 0,
      "outputs": [
        {
          "output_type": "stream",
          "text": [
            "invalid path\n"
          ],
          "name": "stdout"
        }
      ]
    },
    {
      "cell_type": "code",
      "metadata": {
        "id": "QnLP6BqYzhQO",
        "colab_type": "code",
        "outputId": "68cdff1f-c754-47d2-d6f3-adae986c42fc",
        "colab": {
          "base_uri": "https://localhost:8080/",
          "height": 34
        }
      },
      "source": [
        "path"
      ],
      "execution_count": 0,
      "outputs": [
        {
          "output_type": "execute_result",
          "data": {
            "text/plain": [
              "'C:\\\\progra~1\\\\Setup\\\\dir'"
            ]
          },
          "metadata": {
            "tags": []
          },
          "execution_count": 9
        }
      ]
    },
    {
      "cell_type": "code",
      "metadata": {
        "id": "ykV3672H0IFf",
        "colab_type": "code",
        "colab": {}
      },
      "source": [
        "def myfunc(x):\n",
        "  print('inside func'+x)"
      ],
      "execution_count": 0,
      "outputs": []
    },
    {
      "cell_type": "code",
      "metadata": {
        "id": "O-6gVdoZ0z65",
        "colab_type": "code",
        "outputId": "a27b8dfb-6ff3-4238-98f0-8c7b0a7386fd",
        "colab": {
          "base_uri": "https://localhost:8080/",
          "height": 34
        }
      },
      "source": [
        "myfunc(\"arg\")"
      ],
      "execution_count": 0,
      "outputs": [
        {
          "output_type": "stream",
          "text": [
            "inside funcarg\n"
          ],
          "name": "stdout"
        }
      ]
    },
    {
      "cell_type": "code",
      "metadata": {
        "id": "X6kQ2ruZ01zG",
        "colab_type": "code",
        "colab": {}
      },
      "source": [
        "def func(*argv):\n",
        "  for arg in argv:\n",
        "    print(arg)"
      ],
      "execution_count": 0,
      "outputs": []
    },
    {
      "cell_type": "code",
      "metadata": {
        "id": "yOxCEIo71ejh",
        "colab_type": "code",
        "outputId": "e2713462-6d05-402a-b750-ba34977bbf70",
        "colab": {
          "base_uri": "https://localhost:8080/",
          "height": 69
        }
      },
      "source": [
        "func(\"arg1\",\"arg2\",\"ar\")"
      ],
      "execution_count": 0,
      "outputs": [
        {
          "output_type": "stream",
          "text": [
            "arg1\n",
            "arg2\n",
            "ar\n"
          ],
          "name": "stdout"
        }
      ]
    },
    {
      "cell_type": "code",
      "metadata": {
        "id": "dUYC382K1fjm",
        "colab_type": "code",
        "colab": {}
      },
      "source": [
        "def func(**kwarg):\n",
        "  for (key,value) in kwarg.items():\n",
        "    print(key,value)"
      ],
      "execution_count": 0,
      "outputs": []
    },
    {
      "cell_type": "code",
      "metadata": {
        "id": "3Zlyjhmn2aAL",
        "colab_type": "code",
        "outputId": "c29348ca-508f-4614-f56f-20729507108d",
        "colab": {
          "base_uri": "https://localhost:8080/",
          "height": 52
        }
      },
      "source": [
        "func(arg = \"arg1\",arg2 = \"arg2\")"
      ],
      "execution_count": 0,
      "outputs": [
        {
          "output_type": "stream",
          "text": [
            "arg arg1\n",
            "arg2 arg2\n"
          ],
          "name": "stdout"
        }
      ]
    },
    {
      "cell_type": "code",
      "metadata": {
        "id": "Cewa-NIK2f6G",
        "colab_type": "code",
        "colab": {}
      },
      "source": [
        "x = lambda a:a+1"
      ],
      "execution_count": 0,
      "outputs": []
    },
    {
      "cell_type": "code",
      "metadata": {
        "id": "y0WTbM3k3S0b",
        "colab_type": "code",
        "outputId": "146aa501-9961-4c6d-95ba-7e863a438ced",
        "colab": {
          "base_uri": "https://localhost:8080/",
          "height": 34
        }
      },
      "source": [
        "x(10)"
      ],
      "execution_count": 0,
      "outputs": [
        {
          "output_type": "execute_result",
          "data": {
            "text/plain": [
              "11"
            ]
          },
          "metadata": {
            "tags": []
          },
          "execution_count": 30
        }
      ]
    },
    {
      "cell_type": "code",
      "metadata": {
        "id": "Q4aP2bbM3UOk",
        "colab_type": "code",
        "colab": {}
      },
      "source": [
        "def anynomus(n):\n",
        "  return lambda a:a*n"
      ],
      "execution_count": 0,
      "outputs": []
    },
    {
      "cell_type": "code",
      "metadata": {
        "id": "Jd_chKuQ3khc",
        "colab_type": "code",
        "colab": {}
      },
      "source": [
        "dub = anynomus(2)"
      ],
      "execution_count": 0,
      "outputs": []
    },
    {
      "cell_type": "code",
      "metadata": {
        "id": "Q-RIyPlT3tmT",
        "colab_type": "code",
        "outputId": "da34f837-2075-4f5b-9cdc-da55c1d2ab63",
        "colab": {
          "base_uri": "https://localhost:8080/",
          "height": 34
        }
      },
      "source": [
        "dub(10)"
      ],
      "execution_count": 0,
      "outputs": [
        {
          "output_type": "execute_result",
          "data": {
            "text/plain": [
              "20"
            ]
          },
          "metadata": {
            "tags": []
          },
          "execution_count": 33
        }
      ]
    },
    {
      "cell_type": "code",
      "metadata": {
        "id": "XT0-qiil3wEj",
        "colab_type": "code",
        "colab": {}
      },
      "source": [
        "trip = anynomus(3)"
      ],
      "execution_count": 0,
      "outputs": []
    },
    {
      "cell_type": "code",
      "metadata": {
        "id": "boThUNGk30Hz",
        "colab_type": "code",
        "outputId": "a5019962-452f-4124-afd4-82ab19768635",
        "colab": {
          "base_uri": "https://localhost:8080/",
          "height": 34
        }
      },
      "source": [
        "trip(3)"
      ],
      "execution_count": 0,
      "outputs": [
        {
          "output_type": "execute_result",
          "data": {
            "text/plain": [
              "9"
            ]
          },
          "metadata": {
            "tags": []
          },
          "execution_count": 35
        }
      ]
    },
    {
      "cell_type": "code",
      "metadata": {
        "id": "BIeKTNcw317U",
        "colab_type": "code",
        "colab": {
          "base_uri": "https://localhost:8080/",
          "height": 69
        },
        "outputId": "c96066b8-b785-46d6-b016-734048fab22f"
      },
      "source": [
        "import time \n",
        "import math \n",
        "  \n",
        "# decorator to calculate duration \n",
        "# taken by any function. \n",
        "def calculate_time(func): \n",
        "      \n",
        "    # added arguments inside the inner1, \n",
        "    # if function takes any arguments, \n",
        "    # can be added like this. \n",
        "    def inner1(*args, **kwargs): \n",
        "  \n",
        "        # storing time before function execution \n",
        "        print(\"started\")\n",
        "        begin = time.time() \n",
        "          \n",
        "        func(*args, **kwargs) \n",
        "  \n",
        "        # storing time after function execution \n",
        "        end = time.time() \n",
        "        print(\"Total time taken in : \", func.__name__, end - begin) \n",
        "  \n",
        "    return inner1 \n",
        "  \n",
        "  \n",
        "  \n",
        "# this can be added to any function present, \n",
        "# in this case to calculate a factorial \n",
        "@calculate_time\n",
        "def factorial(num): \n",
        "  \n",
        "    # sleep 2 seconds because it takes very less time \n",
        "    # so that you can see the actual difference \n",
        "    time.sleep(2) \n",
        "    print(math.factorial(num)) \n",
        "  \n",
        "# calling the function. \n",
        "factorial(10) "
      ],
      "execution_count": 1,
      "outputs": [
        {
          "output_type": "stream",
          "text": [
            "started\n",
            "3628800\n",
            "Total time taken in :  factorial 2.002239465713501\n"
          ],
          "name": "stdout"
        }
      ]
    },
    {
      "cell_type": "code",
      "metadata": {
        "id": "gy4758cbTsI4",
        "colab_type": "code",
        "colab": {}
      },
      "source": [
        ""
      ],
      "execution_count": 0,
      "outputs": []
    }
  ]
}